{
 "cells": [
  {
   "cell_type": "code",
   "execution_count": 26,
   "metadata": {},
   "outputs": [
    {
     "name": "stdout",
     "output_type": "stream",
     "text": [
      "0 Down2SLC_Sen_Gamma.py JeddahT14F65S1A 190507\n",
      "Down2SLC_Sen_Gamma.py JeddahT14F65S1A 190507 >/dev/null\n",
      "1 Down2SLC_Sen_Gamma.py JeddahT14F65S1A 190519\n",
      "Down2SLC_Sen_Gamma.py JeddahT14F65S1A 190519 >/dev/null\n"
     ]
    }
   ],
   "source": [
    "#with open('run_down2slc_sen') as f:\n",
    "#    for line in f:\n",
    "#        print(line)\n",
    "        \n",
    "f=open('/home/caoy0a/Documents/SCRATCH/JeddahT14F65S1A/DOWNLOAD/run_down2slc_sen','r')\n",
    "ll = f.read().splitlines() \n",
    "f.close()\n",
    "\n",
    "N = len(ll)\n",
    "\n",
    "for i in range(0,N):\n",
    "    ss = str(i)+ ' ' + ll[i]\n",
    "    print(ss)\n",
    "    str_call = ll[i] + ' >/dev/null'\n",
    "    print(str_call)\n"
   ]
  }
 ],
 "metadata": {
  "kernelspec": {
   "display_name": "Python 3",
   "language": "python",
   "name": "python3"
  },
  "language_info": {
   "codemirror_mode": {
    "name": "ipython",
    "version": 3
   },
   "file_extension": ".py",
   "mimetype": "text/x-python",
   "name": "python",
   "nbconvert_exporter": "python",
   "pygments_lexer": "ipython3",
   "version": "3.7.3"
  }
 },
 "nbformat": 4,
 "nbformat_minor": 2
}
